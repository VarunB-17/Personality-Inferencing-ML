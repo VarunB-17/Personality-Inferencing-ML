{
 "cells": [
  {
   "cell_type": "code",
   "execution_count": 61,
   "metadata": {},
   "outputs": [],
   "source": [
    "import pandas as pd\n",
    "data = pd.read_json(\"training_90_string_balanced.json\")"
   ]
  },
  {
   "cell_type": "code",
   "execution_count": 62,
   "metadata": {},
   "outputs": [
    {
     "name": "stdout",
     "output_type": "stream",
     "text": [
      "Total words:  478\n",
      "[TaggedDocument(words=['marry', 'even', 'afraid', 'someone', 'learn', 'listen', 'habit', 'try', 'sell', 'music', 'seriously', 'wtf', 'awesome', 'great', 'way', 'track', 'listen', 'gain', 'great', 'insight', 'type', 'stuff', 'like', 'also', 'make', 'easy', 'share', 'listen', 'habit', 'friend', 'put', 'argument', 'forward', 'state', 'fact', 'seem', 'like', 'ni', 'basically', 'arrive', 'answer', 'without', 'necessarily', 'understand', 'get', 'know', 'many', 'infj', 'seem', 'know', 'thing', 'certainly', 'feel', 'like', 'ni', 'active', 'ti', 'much', 'break', 'whole', 'structure', 'understand', 'answer', 'might', 'come', 'might', 'discover', 'another', 'good', 'answer', 'least', 'underlie', 'logic', 'lead', 'u', 'answer', 'love', 'conversation', 'heahy', 'infj', 'know', 'something', 'get', 'analyze', 'amp', 'pick', 'apart', 'might', 'case', 'love', 'strong', 'ne', 'might', 'feel', 'ni', 'short', 'sight', 'amp', 'restrict', 'want', 'expand', 'idea', 'ni', 'try', 'zero', 'know', 'se', 'feel', 'similarly', 'si', 'wife', 'isfj', 'familiar', 'think', 'always', 'data', 'try', 'experience', 'try', 'way', 'way', 'observe', 'passively', 'aware', 'past', 'precedent', 'ya', 'everything', 'internet', 'true', 'exhibit', 'sociopathic', 'quality', 'affect', 'much', 'kill', 'someone', 'emotionally', 'tight', 'link', 'require', 'reposition', 'mid', 'combo', 'frame', 'yes', 'stuff', 'require', 'bite', 'strict', 'time', 'unfortunately', 'interestingly', 'enough', 'meet', 'many', 'intps', 'biology', 'mostly', 'type', 'field', 'meet', 'quite', 'n', 'type', 'physic', 'though', 'look', 'lab', 'campus', 'people', 'turn', 'radical', 'extremist', 'poor', 'rundown', 'area', 'poor', 'education', 'good', 'average', 'life', 'compare', 'elsewhere', 'world', 'still', 'much', 'nots', 'vast', 'majority', 'time', 'radical', 'come', 'form', 'nots', 'get', 'agree', 'friendlynerd', 'exactly', 'navigate', 'core', 'difference', 'intp', 'istp', 'intps', 'really', 'dig', 'data', 'often', 'sake', 'bite', 'like', 'information', 'sponge', 'might', 'apply', 'something', 'collection', 'information', 'end', 'istps', 'hand', 'typically', 'really', 'sink', 'teeth', 'data', 'plan', 'use', 'end', 'see', 'anything', 'apply', 'information', 'chance', 'keep', 'interest', 'much', 'low', 'theory', 'theory', 'sake', 'tend', 'pretty', 'low', 'priority', 'everyone', 'dislike', 'loud', 'noise', 'personality', 'type', 'chicken', 'cross', 'road', 'time', 'travel', 'topic', 'bad', 'idea', 'always', 'enjoy', 'discussion', 'around', 'universe', 'theory', 'time', 'travel', 'typically', 'many', 'thing', 'say', 'subject', 'though', 'similar', 'kill', 'people', 'post', 'maybe', 'thing', 'would', 'get', 'interest', 'specific', 'one', 'like', 'ponder', 'plant', 'plant', 'feel', 'plant', 'think', 'develop', 'memory', 'communicate', 'scientific', 'evidence', 'relate', 'lot', 'also', 'like', 'start', 'discussion', 'idea', 'completely', 'possible', 'could', 'transcend', 'human', 'conception', 'idea', 'see', 'color', 'optical', 'come', 'oatmeal', 'believe', 'butterfly', 'mantis', 'shrimp', 'see', 'respectively', 'color', 'beyond', 'human', 'comprehension', 'well', 'plant', 'system', 'communicate', 'express', 'feel', 'people', 'idea', 'b', 'might', 'well', 'another', 'plane', 'existence', 'human', 'proper', 'receptor', 'technology', 'observe', 'information', 'go', 'deep', 'plant', 'feel', 'memory', 'murder', 'fuck', 'moral', 'issue', 'pose', 'compare', 'treat', 'animal', 'get', 'detail', 'shut', 'see', 'people', 'think', 'yeah', 'weahiest', 'despite', 'white', 'never', 'access', 'private', 'tutor', 'private', 'school', 'parent', 'get', 'home', 'work', 'dark', 'outside', 'year', 'version', 'balance', 'play', 'field', 'involve', 'throw', 'people', 'grow', 'situation', 'bus', 'essentially', 'tell', 'poor', 'white', 'kid', 'matter', 'poor', 'minority', 'matter', 'come', 'solve', 'problem', 'create', 'fair', 'society', 'try', 'solve', 'disadvantage', 'cause', 'poverty', 'want', 'make', 'poverty', 'disadvantage', 'kid', 'term', 'scholastic', 'performance', 'quota', 'college', 'find', 'funny', 'post', 'right', 'already', 'point', 'comment', 'like', 'think', 'idiot', 'state', 'seek', 'professional', 'help', 'denial', 'go', 'hurt', 'nope', 'start', 'exercise', 'meditate', 'maybe', 'therapist', 'analyze', 'life', 'figure', 'could', 'possibly', 'cause', 'rip', 'bad', 'leech', 'keep', 'move', 'forward', 'load', 'resource', 'online', 'reddit', 'self', 'improvment', 'fi', 'really', 'show', 'honestly', 'rather', 'say', 'take', 'lot', 'admit', 'one', 'first', 'place', 'give', 'live', 'live', 'like'], tags=['I', 0])]\n"
     ]
    }
   ],
   "source": [
    "#pip install gensim\n",
    "from gensim.models.doc2vec import TaggedDocument\n",
    "\n",
    "taggedDocuments = []\n",
    "total_words = float('inf')\n",
    "count = 0\n",
    "for index, data_point_post in data.iterrows():\n",
    "    taggedDocument =  TaggedDocument(words=data.at[index, 'posts'], tags=[data.at[index, 'type'], count])\n",
    "    taggedDocuments.append(taggedDocument)\n",
    "\n",
    "    total_words = min(total_words, len(data.at[index, 'posts']))\n",
    "    count += 1\n",
    "print('Total words: ', total_words)\n",
    "print(taggedDocuments[0:1])"
   ]
  },
  {
   "cell_type": "code",
   "execution_count": 68,
   "metadata": {},
   "outputs": [
    {
     "name": "stdout",
     "output_type": "stream",
     "text": [
      "[TaggedDocument(words=['right', 'reality', 'discus', 'come', 'separate', 'conclusion', 'least', 'opinion', 'anyway', 'well', 'really', 'wish', 'talk', 'religion', 'spirituality', 'take', 'slowly', 'catholic', 'upbringing', 'likely', 'ingrain', 'value', 'system', 'perception', 'world', 'etc', 'likely', 'wish', 'avoid', 'major', 'shock', 'imperative', 'sake', 'start', 'place', 'doubt', 'belief', 'immediately', 'affect', 'core', 'go', 'slowly', 'give', 'time', 'reason', 'whatever', 'idea', 'propose', 'give', 'time', 'adjust', 'uimately', 'idea', 'always', 'go', 'challenge', 'society', 'freedom', 'speech', 'involve', 'wager', 'beneficial', 'long', 'run', 'become', 'confident', 'discus', 'belief', 'non', 'traditional', 'student', 'right', 'hop', 'transfer', 'university', 'back', 'east', 'spend', 'whole', 'life', 'town', 'state', 'west', 'coast', 'beyond', 'degree', 'program', 'look', 'one', 'important', 'thing', 'aesthetic', 'value', 'campus', 'explain', 'see', 'beauty', 'college', 'campus', 'really', 'get', 'juice', 'flow', 'feel', 'inspire', 'focus', 'compel', 'perform', 'collegiate', 'level', 'probably', 'sound', 'really', 'dumb', 'everyone', 'matter', 'dorm', 'campus', 'life', 'important', 'follow', 'financial', 'aid', 'package', 'offer', 'point', 'go', 'college', 'cheaply', 'possible', 'high', 'priority', 'since', 'base', 'everything', 'evaluate', 'would', 'le', 'relative', 'case', 'fascinate', 'lol', 'much', 'due', 'empathy', 'trait', 'let', 'publicly', 'call', 'friend', 'inside', 'know', 'plane', 'significance', 'deflect', 'negativity', 'lie', 'plane', 'order', 'keep', 'inner', 'self', 'clean', 'honest', 'know', 'matter', 'know', 'sleep', 'know', 'awake', 'know', 'bad', 'good', 'could', 'infj', 'transparency', 'key', 'put', 'card', 'table', 'get', 'habit', 'might', 'big', 'deal', 'think', 'fe', 'immediately', 'draw', 'current', 'boyfriend', 'entj', 'conversation', 'sudden', 'intense', 'feel', 'end', 'barely', 'spend', 'night', 'without', 'hang', 'first', 'moment', 'story', 'behind', 'say', 'problem', 'relationship', 'infj', 'guess', 'see', 'matter', 'never', 'want', 'see', 'someone', 'fact', 'right', 'make', 'choice', 'frankly', 'people', 'worth', 'know', 'thing', 'often', 'judgement', 'character', 'tend', 'right', 'even', 'friend', 'family', 'never', 'believe', 'late', 'people', 'prove', 'wrong', 'though', 'refresh', 'lot', 'time', 'feel', 'like', 'one', 'tell', 'person', 'uerior', 'motive', 'mostly', 'keep', 'thought', 'romantic', 'enough', 'make', 'human', 'existence', 'poetic', 'beautiful', 'get', 'beloved', 'fur', 'baby', 'hello', 'ahhh', 'hit', 'close', 'home', 'good', 'friend', 'know', 'real', 'life', 'usually', 'let', 'slide', 'someone', 'romantically', 'interest', 'drop', 'em', 'little', 'harsh', 'maybe', 'usually', 'confront', 'bum', 'take', 'day', 'reply', 'still', 'show', 'lack', 'care', 'everyone', 'mind', 'move', 'find', 'someone', 'ツ', 'wind', 'tree', 'actually', 'really', 'one', 'one', 'dude', 'call', 'best', 'friend', 'really', 'esfp', 'year', 'ago', 'hour', 'republican', 'control', 'three', 'branch', 'government', 'congress', 'introduce', 'virtually', 'bill', 'dream', 'actually', 'mathematical', 'chance', 'become', 'stay', 'law', 'reproductive', 'right', 'gay', 'right', 'climate', 'change', 'prevention', 'financial', 'regulation', 'congress', 'shoot', 'repeal', 'thing', 'try', 'year', 'stall', 'threat', 'obama', 'veto', 'conservative', 'bloc', 'warehouse', 'agenda', 'mathematical', 'power', 'pas', 'presumptive', 'assurance', 'sign', 'onto', 'law', 'wow', 'thank', 'response', 'trouble', 'apply', 'advice', 'real', 'world', 'mean', 'new', 'way', 'think', 'seem', 'unfamiliar', 'uncomfortable', 'get', 'tempt', 'retreat', 'back', 'old', 'way', 'think', 'strategy', 'force', 'stick', 'new', 'way', 'think', 'rather', 'stay', 'way', 'use', 'thank', 'source', 'always', 'hear', 'ti', 'good', 'depend', 'heahy', 'outlook', 'stress', 'address', 'certain', 'issue', 'get', 'lock', 'overthinking', 'everything', 'positive', 'ti', 'help', 'fit', 'ni', 'fe', 'decision', 'rational', 'logically', 'consistent', 'pattern', 'seem', 'like', 'obvious', 'clash', 'boundary', 'morally', 'acceptable', 'trouble', 'jealousy', 'usually', 'end', 'navigate', 'hard', 'way', 'right', 'middle', 'mean', 'horrible', 'sound', 'like', 'lot', 'ex', 'transgression', 'subjective', 'colour', 'perception', 'quite', 'strongly', 'misdirect', 'think', 'important', 'thing', 'focus', 'clarity', 'closure', 'work', 'possible', 'find', 'motivation', 'talk', 'woman', 'obviously', 'still', 'undercurrent', 'feel', 'anyone', 'else', 'seem', 'try', 'line', 'people', 'incase', 'thing', 'work', 'simply'], tags=['I', 1])]\n"
     ]
    }
   ],
   "source": [
    "print(taggedDocuments[1:2])"
   ]
  },
  {
   "cell_type": "code",
   "execution_count": 63,
   "metadata": {},
   "outputs": [],
   "source": [
    "from gensim.models import Doc2Vec\n",
    "\n",
    "model = Doc2Vec(vector_size=50, min_count=2, epochs=40)\n",
    "model.build_vocab(taggedDocuments)\n",
    "\n",
    "model.train(taggedDocuments, total_examples=model.corpus_count, epochs=model.epochs)"
   ]
  },
  {
   "cell_type": "code",
   "execution_count": 64,
   "metadata": {},
   "outputs": [],
   "source": [
    "model.save('model.doc2vec')"
   ]
  },
  {
   "cell_type": "code",
   "execution_count": 74,
   "metadata": {},
   "outputs": [
    {
     "data": {
      "text/plain": [
       "[(1, 0.8197523951530457),\n",
       " (24204, 0.5651254653930664),\n",
       " (1096, 0.5290128588676453),\n",
       " ('I', 0.5263315439224243),\n",
       " (14275, 0.5186968445777893),\n",
       " ('E', 0.5109092593193054),\n",
       " (8566, 0.5093949437141418),\n",
       " (13606, 0.49475735425949097),\n",
       " (40054, 0.4842260181903839),\n",
       " (41454, 0.48399126529693604)]"
      ]
     },
     "execution_count": 74,
     "metadata": {},
     "output_type": "execute_result"
    }
   ],
   "source": [
    "#the same vector as 1\n",
    "new_vector = model.infer_vector(doc_words=['right', 'reality', 'discus', 'come', 'separate', 'conclusion', 'least', 'opinion', 'anyway', 'well', 'really', 'wish', 'talk', 'religion', 'spirituality', 'take', 'slowly', 'catholic', 'upbringing', 'likely', 'ingrain', 'value', 'system', 'perception', 'world', 'etc', 'likely', 'wish', 'avoid', 'major', 'shock', 'imperative', 'sake', 'start', 'place', 'doubt', 'belief', 'immediately', 'affect', 'core', 'go', 'slowly', 'give', 'time', 'reason', 'whatever', 'idea', 'propose', 'give', 'time', 'adjust', 'uimately', 'idea', 'always', 'go', 'challenge', 'society', 'freedom', 'speech', 'involve', 'wager', 'beneficial', 'long', 'run', 'become', 'confident', 'discus', 'belief', 'non', 'traditional', 'student', 'right', 'hop', 'transfer', 'university', 'back', 'east', 'spend', 'whole', 'life', 'town', 'state', 'west', 'coast', 'beyond', 'degree', 'program', 'look', 'one', 'important', 'thing', 'aesthetic', 'value', 'campus', 'explain', 'see', 'beauty', 'college', 'campus', 'really', 'get', 'juice', 'flow', 'feel', 'inspire', 'focus', 'compel', 'perform', 'collegiate', 'level', 'probably', 'sound', 'really', 'dumb', 'everyone', 'matter', 'dorm', 'campus', 'life', 'important', 'follow', 'financial', 'aid', 'package', 'offer', 'point', 'go', 'college', 'cheaply', 'possible', 'high', 'priority', 'since', 'base', 'everything', 'evaluate', 'would', 'le', 'relative', 'case', 'fascinate', 'lol', 'much', 'due', 'empathy', 'trait', 'let', 'publicly', 'call', 'friend', 'inside', 'know', 'plane', 'significance', 'deflect', 'negativity', 'lie', 'plane', 'order', 'keep', 'inner', 'self', 'clean', 'honest', 'know', 'matter', 'know', 'sleep', 'know', 'awake', 'know', 'bad', 'good', 'could', 'infj', 'transparency', 'key', 'put', 'card', 'table', 'get', 'habit', 'might', 'big', 'deal', 'think', 'fe', 'immediately', 'draw', 'current', 'boyfriend', 'entj', 'conversation', 'sudden', 'intense', 'feel', 'end', 'barely', 'spend', 'night', 'without', 'hang', 'first', 'moment', 'story', 'behind', 'say', 'problem', 'relationship', 'infj', 'guess', 'see', 'matter', 'never', 'want', 'see', 'someone', 'fact', 'right', 'make', 'choice', 'frankly', 'people', 'worth', 'know', 'thing', 'often', 'judgement', 'character', 'tend', 'right', 'even', 'friend', 'family', 'never', 'believe', 'late', 'people', 'prove', 'wrong', 'though', 'refresh', 'lot', 'time', 'feel', 'like', 'one', 'tell', 'person', 'uerior', 'motive', 'mostly', 'keep', 'thought', 'romantic', 'enough', 'make', 'human', 'existence', 'poetic', 'beautiful', 'get', 'beloved', 'fur', 'baby', 'hello', 'ahhh', 'hit', 'close', 'home', 'good', 'friend', 'know', 'real', 'life', 'usually', 'let', 'slide', 'someone', 'romantically', 'interest', 'drop', 'em', 'little', 'harsh', 'maybe', 'usually', 'confront', 'bum', 'take', 'day', 'reply', 'still', 'show', 'lack', 'care', 'everyone', 'mind', 'move', 'find', 'someone', 'ツ', 'wind', 'tree', 'actually', 'really', 'one', 'one', 'dude', 'call', 'best', 'friend', 'really', 'esfp', 'year', 'ago', 'hour', 'republican', 'control', 'three', 'branch', 'government', 'congress', 'introduce', 'virtually', 'bill', 'dream', 'actually', 'mathematical', 'chance', 'become', 'stay', 'law', 'reproductive', 'right', 'gay', 'right', 'climate', 'change', 'prevention', 'financial', 'regulation', 'congress', 'shoot', 'repeal', 'thing', 'try', 'year', 'stall', 'threat', 'obama', 'veto', 'conservative', 'bloc', 'warehouse', 'agenda', 'mathematical', 'power', 'pas', 'presumptive', 'assurance', 'sign', 'onto', 'law', 'wow', 'thank', 'response', 'trouble', 'apply', 'advice', 'real', 'world', 'mean', 'new', 'way', 'think', 'seem', 'unfamiliar', 'uncomfortable', 'get', 'tempt', 'retreat', 'back', 'old', 'way', 'think', 'strategy', 'force', 'stick', 'new', 'way', 'think', 'rather', 'stay', 'way', 'use', 'thank', 'source', 'always', 'hear', 'ti', 'good', 'depend', 'heahy', 'outlook', 'stress', 'address', 'certain', 'issue', 'get', 'lock', 'overthinking', 'everything', 'positive', 'ti', 'help', 'fit', 'ni', 'fe', 'decision', 'rational', 'logically', 'consistent', 'pattern', 'seem', 'like', 'obvious', 'clash', 'boundary', 'morally', 'acceptable', 'trouble', 'jealousy', 'usually', 'end', 'navigate', 'hard', 'way', 'right', 'middle', 'mean', 'horrible', 'sound', 'like', 'lot', 'ex', 'transgression', 'subjective', 'colour', 'perception', 'quite', 'strongly', 'misdirect', 'think', 'important', 'thing', 'focus', 'clarity', 'closure', 'work', 'possible', 'find', 'motivation', 'talk', 'woman', 'obviously', 'still', 'undercurrent', 'feel', 'anyone', 'else', 'seem', 'try', 'line', 'people', 'incase', 'thing', 'work', 'simply'])\n",
    "\n",
    "model.dv.similar_by_vector(new_vector, topn=10)"
   ]
  },
  {
   "cell_type": "code",
   "execution_count": 75,
   "metadata": {},
   "outputs": [
    {
     "data": {
      "text/plain": [
       "array([-1.8393508 , -0.41931695, -0.5437886 , -0.51775134,  0.23712564,\n",
       "       -0.31586823,  0.6310774 , -1.1809062 , -0.75154674, -2.8365977 ,\n",
       "       -0.2696067 , -0.41616866, -0.78340304,  1.1896102 ,  0.0542559 ,\n",
       "       -0.5730347 , -1.0484622 , -0.7545111 , -0.02888441, -0.6596331 ,\n",
       "        1.3554665 , -0.12158296,  0.11213107, -0.90351295,  1.5982747 ,\n",
       "        0.0595136 , -0.57026637, -0.05774513, -1.621061  , -0.06455465,\n",
       "        0.09985592,  0.2902357 ,  0.04315423,  0.6954319 ,  0.4925679 ,\n",
       "        1.92498   , -1.6605117 ,  0.737136  ,  1.1227887 ,  1.3971119 ,\n",
       "        0.17453253,  2.2342954 ,  0.72813547,  0.9824704 ,  0.30605397,\n",
       "       -0.8812372 ,  0.7043369 ,  2.1331034 , -1.1793265 ,  0.5242418 ],\n",
       "      dtype=float32)"
      ]
     },
     "execution_count": 75,
     "metadata": {},
     "output_type": "execute_result"
    }
   ],
   "source": [
    "#use this to get a vector (the parameter is the index of the datapoint)\n",
    "model.dv.get_vector(0)"
   ]
  }
 ],
 "metadata": {
  "interpreter": {
   "hash": "c5895c19eaeaaf2f51c408f07c95071cd65f0794f3cdacfedf343cff40747f1b"
  },
  "kernelspec": {
   "display_name": "Python 3.8.8 ('base')",
   "language": "python",
   "name": "python3"
  },
  "language_info": {
   "codemirror_mode": {
    "name": "ipython",
    "version": 3
   },
   "file_extension": ".py",
   "mimetype": "text/x-python",
   "name": "python",
   "nbconvert_exporter": "python",
   "pygments_lexer": "ipython3",
   "version": "3.8.8"
  },
  "orig_nbformat": 4
 },
 "nbformat": 4,
 "nbformat_minor": 2
}
