{
 "cells": [
  {
   "cell_type": "code",
   "execution_count": 3,
   "metadata": {},
   "outputs": [],
   "source": [
    "import pandas as pd\n",
    "\n",
    "# Read the csv file\n",
    "data = pd.read_csv('training_90.csv')\n",
    "\n"
   ]
  },
  {
   "cell_type": "code",
   "execution_count": 4,
   "metadata": {},
   "outputs": [
    {
     "name": "stdout",
     "output_type": "stream",
     "text": [
      "INTP    22452\n",
      "INTJ    20198\n",
      "INFJ    13448\n",
      "INFP    10933\n",
      "ENTP    10538\n",
      "ENFP     5581\n",
      "ISTP     3071\n",
      "ENTJ     2642\n",
      "ESTP     1800\n",
      "ENFJ     1376\n",
      "ISTJ     1129\n",
      "ISFP      796\n",
      "ISFJ      592\n",
      "ESTJ      432\n",
      "ESFP      324\n",
      "ESFJ      148\n",
      "Name: type, dtype: int64\n"
     ]
    },
    {
     "data": {
      "text/plain": [
       "<AxesSubplot:>"
      ]
     },
     "execution_count": 4,
     "metadata": {},
     "output_type": "execute_result"
    },
    {
     "data": {
      "image/png": "[encoded data removed]",
      "text/plain": [
       "<Figure size 432x288 with 1 Axes>"
      ]
     },
     "metadata": {
      "needs_background": "light"
     },
     "output_type": "display_data"
    }
   ],
   "source": [
    "print(data['type'].value_counts())\n",
    "data['type'].value_counts().plot.bar(x='type', y='Frequency')"
   ]
  },
  {
   "cell_type": "code",
   "execution_count": 5,
   "metadata": {},
   "outputs": [
    {
     "name": "stdout",
     "output_type": "stream",
     "text": [
      "4361.5\n"
     ]
    }
   ],
   "source": [
    "value_counts = data['type'].value_counts()\n",
    "counts_without_outliers = list(value_counts)[2:-2]\n",
    "counts_average = sum(counts_without_outliers)/len(counts_without_outliers)\n",
    "print(counts_average) \n",
    "\n",
    "a_tenth_of_majority = counts_average / 5\n",
    "ten_times_of_minority = counts_average * 2"
   ]
  },
  {
   "cell_type": "code",
   "execution_count": 6,
   "metadata": {},
   "outputs": [
    {
     "name": "stdout",
     "output_type": "stream",
     "text": [
      "         0\n",
      "INTP  8723\n",
      "INTJ  7847\n",
      "INFJ  5224\n",
      "INFP  4247\n",
      "ENTP  4094\n",
      "ENFP  5581\n",
      "ISTP  3071\n",
      "ENTJ  2642\n",
      "ESTP  1800\n",
      "ENFJ  1376\n",
      "ISTJ  1129\n",
      "ISFP  1031\n",
      "ISFJ   990\n",
      "ESTJ   958\n",
      "ESFP   937\n",
      "ESFJ   901\n"
     ]
    },
    {
     "data": {
      "image/png": "[encoded data removed]",
      "text/plain": [
       "<Figure size 432x288 with 1 Axes>"
      ]
     },
     "metadata": {
      "needs_background": "light"
     },
     "output_type": "display_data"
    }
   ],
   "source": [
    "import math \n",
    "\n",
    "new_value_counts = []\n",
    "\n",
    "for value in value_counts:\n",
    "    if value > ten_times_of_minority:\n",
    "        value = value*ten_times_of_minority/value_counts[0]\n",
    "    elif value < a_tenth_of_majority:\n",
    "        value = a_tenth_of_majority + 1/5 * value\n",
    "    new_value_counts.append(int(value))\n",
    "\n",
    "\n",
    "new_value_counts_df = pd.DataFrame(new_value_counts, index = value_counts.index)\n",
    "\n",
    "\n",
    "new_value_counts_df.plot.bar()\n",
    "print(new_value_counts_df)"
   ]
  },
  {
   "cell_type": "code",
   "execution_count": 7,
   "metadata": {},
   "outputs": [
    {
     "name": "stdout",
     "output_type": "stream",
     "text": [
      "                                                   posts  type\n",
      "43369  also would host refugee work settle country am...  INTP\n",
      "45647  get get maybe stem social science major femini...  INTP\n",
      "2202   correlation able produce captivate fiction med...  INTP\n",
      "23232  logical construct base assumption order set ba...  INTP\n",
      "52614  inappropriate woman commune satan well good tr...  INTP\n",
      "...                                                  ...   ...\n",
      "77594  grow typical introvert never boatload friend a...  ESFJ\n",
      "49924  anna netrebko voice unique voice sound shrill ...  ESFJ\n",
      "9998   though especially hard winter still dark bed w...  ESFJ\n",
      "61309  people conform gon na comment remember tl r ad...  ESFJ\n",
      "10178  act rational irrational emotional state nothin...  ESFJ\n",
      "\n",
      "[50551 rows x 2 columns]\n"
     ]
    }
   ],
   "source": [
    "\n",
    "balanced_data = pd.DataFrame()\n",
    "for type in new_value_counts_df.index:\n",
    "    sample_size = new_value_counts_df[new_value_counts_df.index == type].values[0][0]\n",
    "\n",
    "    data_of_type = data[data[\"type\"] == type]\n",
    "    sampled_data = pd.DataFrame()\n",
    "\n",
    "    if len(data_of_type) >= sample_size:\n",
    "        sampled_data = data_of_type.sample(n = sample_size)\n",
    "    else:\n",
    "        sampled_data = data_of_type.sample(n = sample_size, replace=True)\n",
    "    \n",
    "    balanced_data = pd.concat([balanced_data, sampled_data])\n",
    "print(balanced_data)"
   ]
  },
  {
   "cell_type": "code",
   "execution_count": 8,
   "metadata": {},
   "outputs": [
    {
     "name": "stdout",
     "output_type": "stream",
     "text": [
      "INTP    8723\n",
      "INTJ    7847\n",
      "ENFP    5581\n",
      "INFJ    5224\n",
      "INFP    4247\n",
      "ENTP    4094\n",
      "ISTP    3071\n",
      "ENTJ    2642\n",
      "ESTP    1800\n",
      "ENFJ    1376\n",
      "ISTJ    1129\n",
      "ISFP    1031\n",
      "ISFJ     990\n",
      "ESTJ     958\n",
      "ESFP     937\n",
      "ESFJ     901\n",
      "Name: type, dtype: int64\n"
     ]
    },
    {
     "data": {
      "image/png": "[encoded data removed]",
      "text/plain": [
       "<Figure size 432x288 with 1 Axes>"
      ]
     },
     "metadata": {
      "needs_background": "light"
     },
     "output_type": "display_data"
    }
   ],
   "source": [
    "print(balanced_data['type'].value_counts())\n",
    "balanced_data['type'].value_counts().plot.bar(x='type', y='Frequency')\n",
    "balanced_data.to_csv(\"training_90_string_balanced.csv\", index=False)"
   ]
  },
  {
   "cell_type": "code",
   "execution_count": 20,
   "metadata": {},
   "outputs": [
    {
     "name": "stdout",
     "output_type": "stream",
     "text": [
      "43369    INTP\n",
      "45647    INTP\n",
      "2202     INTP\n",
      "23232    INTP\n",
      "52614    INTP\n",
      "         ... \n",
      "77594    ESFJ\n",
      "49924    ESFJ\n",
      "9998     ESFJ\n",
      "61309    ESFJ\n",
      "10178    ESFJ\n",
      "Name: type, Length: 50551, dtype: object\n"
     ]
    }
   ],
   "source": [
    "print(balanced_data['type'])"
   ]
  },
  {
   "cell_type": "code",
   "execution_count": 23,
   "metadata": {},
   "outputs": [
    {
     "name": "stdout",
     "output_type": "stream",
     "text": [
      "TRAIN: [    0     1     2 ... 50548 50549 50550] TEST: [   23    30    36 ... 50528 50529 50539]\n",
      "TRAIN: [    0     2     4 ... 50547 50548 50549] TEST: [    1     3     8 ... 50542 50546 50550]\n",
      "TRAIN: [    1     2     3 ... 50548 50549 50550] TEST: [    0     4     5 ... 50508 50532 50537]\n",
      "TRAIN: [    0     1     3 ... 50547 50548 50550] TEST: [    2     6     7 ... 50544 50545 50549]\n",
      "TRAIN: [    0     1     2 ... 50546 50549 50550] TEST: [   15    18    22 ... 50543 50547 50548]\n",
      "[{'train': array([    0,     1,     2, ..., 50548, 50549, 50550]), 'test': array([   23,    30,    36, ..., 50528, 50529, 50539])}, {'train': array([    0,     2,     4, ..., 50547, 50548, 50549]), 'test': array([    1,     3,     8, ..., 50542, 50546, 50550])}, {'train': array([    1,     2,     3, ..., 50548, 50549, 50550]), 'test': array([    0,     4,     5, ..., 50508, 50532, 50537])}, {'train': array([    0,     1,     3, ..., 50547, 50548, 50550]), 'test': array([    2,     6,     7, ..., 50544, 50545, 50549])}, {'train': array([    0,     1,     2, ..., 50546, 50549, 50550]), 'test': array([   15,    18,    22, ..., 50543, 50547, 50548])}]\n"
     ]
    }
   ],
   "source": [
    "from sklearn.model_selection import StratifiedKFold\n",
    "\n",
    "kf = StratifiedKFold(n_splits=5, shuffle=True)\n",
    "\n",
    "splits = []\n",
    "for train_indexes, test_indexes in kf.split(balanced_data, balanced_data['type']):\n",
    "    splits.append({'train': train_indexes, 'test': test_indexes})\n",
    "    print(\"TRAIN:\", train_indexes, \"TEST:\", test_indexes)\n",
    "\n",
    "print(splits)\n"
   ]
  }
 ],
 "metadata": {
  "interpreter": {
   "hash": "c5895c19eaeaaf2f51c408f07c95071cd65f0794f3cdacfedf343cff40747f1b"
  },
  "kernelspec": {
   "display_name": "Python 3.8.8 ('base')",
   "language": "python",
   "name": "python3"
  },
  "language_info": {
   "codemirror_mode": {
    "name": "ipython",
    "version": 3
   },
   "file_extension": ".py",
   "mimetype": "text/x-python",
   "name": "python",
   "nbconvert_exporter": "python",
   "pygments_lexer": "ipython3",
   "version": "3.8.8"
  },
  "orig_nbformat": 4
 },
 "nbformat": 4,
 "nbformat_minor": 2
}
