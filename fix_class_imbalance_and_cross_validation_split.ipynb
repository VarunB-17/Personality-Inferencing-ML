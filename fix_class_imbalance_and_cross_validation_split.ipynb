{
 "cells": [
  {
   "cell_type": "code",
   "execution_count": 34,
   "metadata": {},
   "outputs": [],
   "source": [
    "import pandas as pd\n",
    "\n",
    "# Read the csv file\n",
    "data = pd.read_csv('training_90_string.csv')\n",
    "\n"
   ]
  },
  {
   "cell_type": "code",
   "execution_count": 35,
   "metadata": {},
   "outputs": [
    {
     "name": "stdout",
     "output_type": "stream",
     "text": [
      "I    72605\n",
      "E    22855\n",
      "Name: type, dtype: int64\n"
     ]
    },
    {
     "data": {
      "text/plain": [
       "<AxesSubplot:>"
      ]
     },
     "execution_count": 35,
     "metadata": {},
     "output_type": "execute_result"
    },
    {
     "data": {
      "image/png": "[encoded data removed]",
      "text/plain": [
       "<Figure size 432x288 with 1 Axes>"
      ]
     },
     "metadata": {
      "needs_background": "light"
     },
     "output_type": "display_data"
    }
   ],
   "source": [
    "print(data['type'].value_counts())\n",
    "data['type'].value_counts().plot.bar(x='type', y='Frequency')"
   ]
  },
  {
   "cell_type": "code",
   "execution_count": 36,
   "metadata": {},
   "outputs": [],
   "source": [
    "#value_counts = data['type'].value_counts()\n",
    "#counts_without_outliers = list(value_counts)[2:-2]\n",
    "#counts_average = sum(counts_without_outliers)/len(counts_without_outliers)\n",
    "#print(counts_average) \n",
    "\n",
    "#a_tenth_of_majority = counts_average / 5\n",
    "#ten_times_of_minority = counts_average * 2"
   ]
  },
  {
   "cell_type": "code",
   "execution_count": 37,
   "metadata": {},
   "outputs": [],
   "source": [
    "#import math \n",
    "\n",
    "#new_value_counts = []\n",
    "\n",
    "#for value in value_counts:\n",
    "#    if value > ten_times_of_minority:\n",
    "#        value = value*ten_times_of_minority/value_counts[0]\n",
    "#    elif value < a_tenth_of_majority:\n",
    "#        value = a_tenth_of_majority + 1/5 * value\n",
    "#    new_value_counts.append(int(value))\n",
    "\n",
    "\n",
    "#new_value_counts_df = pd.DataFrame(new_value_counts, index = value_counts.index)\n",
    "\n",
    "\n",
    "#new_value_counts_df.plot.bar()\n",
    "#print(new_value_counts_df)"
   ]
  },
  {
   "cell_type": "code",
   "execution_count": 38,
   "metadata": {},
   "outputs": [],
   "source": [
    "\n",
    "#balanced_data = pd.DataFrame()\n",
    "#for type in new_value_counts_df.index:\n",
    "#    sample_size = new_value_counts_df[new_value_counts_df.index == type].values[0][0]\n",
    "\n",
    "#    data_of_type = data[data[\"type\"] == type]\n",
    "#    sampled_data = pd.DataFrame()\n",
    "\n",
    "#    if len(data_of_type) >= sample_size:\n",
    "#        sampled_data = data_of_type.sample(n = sample_size)\n",
    "#    else:\n",
    "#        sampled_data = data_of_type.sample(n = sample_size, replace=True)\n",
    "    \n",
    "#    balanced_data = pd.concat([balanced_data, sampled_data])\n",
    "#print(balanced_data)"
   ]
  },
  {
   "cell_type": "code",
   "execution_count": 39,
   "metadata": {},
   "outputs": [],
   "source": [
    "introvert_data = data[data[\"type\"] == 'I']\n",
    "extrovert_data = data[data[\"type\"] == 'E']\n",
    "\n",
    "sample_size = min(len(introvert_data), len(extrovert_data))\n",
    "\n",
    "sampled_introvert_data = introvert_data.sample(n = sample_size)\n",
    "sampled_extrovert_data = extrovert_data.sample(n = sample_size)\n",
    "\n",
    "balanced_data = pd.concat([sampled_introvert_data, sampled_extrovert_data])"
   ]
  },
  {
   "cell_type": "code",
   "execution_count": 40,
   "metadata": {},
   "outputs": [
    {
     "name": "stdout",
     "output_type": "stream",
     "text": [
      "E    22855\n",
      "I    22855\n",
      "Name: type, dtype: int64\n"
     ]
    },
    {
     "data": {
      "image/png": "[encoded data removed]",
      "text/plain": [
       "<Figure size 432x288 with 1 Axes>"
      ]
     },
     "metadata": {
      "needs_background": "light"
     },
     "output_type": "display_data"
    }
   ],
   "source": [
    "print(balanced_data['type'].value_counts())\n",
    "balanced_data['type'].value_counts().plot.bar(x='type', y='Frequency')\n",
    "balanced_data.to_csv(\"training_90_string_balanced.csv\", index=False)"
   ]
  },
  {
   "cell_type": "code",
   "execution_count": 41,
   "metadata": {},
   "outputs": [
    {
     "name": "stdout",
     "output_type": "stream",
     "text": [
      "2589     I\n",
      "55620    I\n",
      "89055    I\n",
      "32251    I\n",
      "33092    I\n",
      "        ..\n",
      "81823    E\n",
      "66765    E\n",
      "76828    E\n",
      "83183    E\n",
      "35848    E\n",
      "Name: type, Length: 45710, dtype: object\n"
     ]
    }
   ],
   "source": [
    "print(balanced_data['type'])"
   ]
  },
  {
   "cell_type": "code",
   "execution_count": 42,
   "metadata": {},
   "outputs": [],
   "source": [
    "#from sklearn.model_selection import StratifiedKFold\n",
    "\n",
    "#kf = StratifiedKFold(n_splits=5, shuffle=True)\n",
    "\n",
    "#splits = []\n",
    "#for train_indexes, test_indexes in kf.split(balanced_data, balanced_data['type']):\n",
    "#    splits.append({'train': train_indexes, 'test': test_indexes})\n",
    "#    print(\"TRAIN:\", train_indexes, \"TEST:\", test_indexes)\n",
    "\n",
    "#print(splits)\n"
   ]
  }
 ],
 "metadata": {
  "interpreter": {
   "hash": "c5895c19eaeaaf2f51c408f07c95071cd65f0794f3cdacfedf343cff40747f1b"
  },
  "kernelspec": {
   "display_name": "Python 3.8.8 ('base')",
   "language": "python",
   "name": "python3"
  },
  "language_info": {
   "codemirror_mode": {
    "name": "ipython",
    "version": 3
   },
   "file_extension": ".py",
   "mimetype": "text/x-python",
   "name": "python",
   "nbconvert_exporter": "python",
   "pygments_lexer": "ipython3",
   "version": "3.8.8"
  },
  "orig_nbformat": 4
 },
 "nbformat": 4,
 "nbformat_minor": 2
}
