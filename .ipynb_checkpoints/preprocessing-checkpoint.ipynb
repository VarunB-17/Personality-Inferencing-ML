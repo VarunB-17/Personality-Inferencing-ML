{
 "cells": [
  {
   "cell_type": "code",
   "execution_count": 16,
   "metadata": {},
   "outputs": [],
   "source": [
    "# Importing pandas and sklearn to visualize the data and to split the data as a training/test split set\n",
    "import csv\n",
    "import pandas as pd\n",
    "from sklearn.model_selection import train_test_split\n",
    "import nltk\n",
    "from nltk.corpus import stopwords\n",
    "from nltk.tokenize import word_tokenize\n",
    "import matplotlib.pyplot as plt"
   ]
  },
  {
   "cell_type": "code",
   "execution_count": 2,
   "metadata": {},
   "outputs": [
    {
     "data": {
      "text/html": [
       "<div>\n",
       "<style scoped>\n",
       "    .dataframe tbody tr th:only-of-type {\n",
       "        vertical-align: middle;\n",
       "    }\n",
       "\n",
       "    .dataframe tbody tr th {\n",
       "        vertical-align: top;\n",
       "    }\n",
       "\n",
       "    .dataframe thead th {\n",
       "        text-align: right;\n",
       "    }\n",
       "</style>\n",
       "<table border=\"1\" class=\"dataframe\">\n",
       "  <thead>\n",
       "    <tr style=\"text-align: right;\">\n",
       "      <th></th>\n",
       "      <th>posts</th>\n",
       "      <th>type</th>\n",
       "    </tr>\n",
       "  </thead>\n",
       "  <tbody>\n",
       "    <tr>\n",
       "      <th>0</th>\n",
       "      <td>know intj tool use interaction people excuse a...</td>\n",
       "      <td>INTJ</td>\n",
       "    </tr>\n",
       "    <tr>\n",
       "      <th>1</th>\n",
       "      <td>rap music ehh opp yeah know valid well know fa...</td>\n",
       "      <td>INTJ</td>\n",
       "    </tr>\n",
       "    <tr>\n",
       "      <th>2</th>\n",
       "      <td>preferably p hd low except wew lad video p min...</td>\n",
       "      <td>INTJ</td>\n",
       "    </tr>\n",
       "    <tr>\n",
       "      <th>3</th>\n",
       "      <td>drink like wish could drink red wine give head...</td>\n",
       "      <td>INTJ</td>\n",
       "    </tr>\n",
       "    <tr>\n",
       "      <th>4</th>\n",
       "      <td>space program ah bad deal meing freelance max ...</td>\n",
       "      <td>INTJ</td>\n",
       "    </tr>\n",
       "    <tr>\n",
       "      <th>5</th>\n",
       "      <td>loose stop overthinking everything ruin friend...</td>\n",
       "      <td>INTJ</td>\n",
       "    </tr>\n",
       "    <tr>\n",
       "      <th>6</th>\n",
       "      <td>often men one put chance get burn otherwise no...</td>\n",
       "      <td>INTJ</td>\n",
       "    </tr>\n",
       "    <tr>\n",
       "      <th>7</th>\n",
       "      <td>early definitely relate quiet self destruction...</td>\n",
       "      <td>INTJ</td>\n",
       "    </tr>\n",
       "    <tr>\n",
       "      <th>8</th>\n",
       "      <td>one full list would impossibly long quotable f...</td>\n",
       "      <td>INTJ</td>\n",
       "    </tr>\n",
       "    <tr>\n",
       "      <th>9</th>\n",
       "      <td>technique information power share unless absol...</td>\n",
       "      <td>INTJ</td>\n",
       "    </tr>\n",
       "  </tbody>\n",
       "</table>\n",
       "</div>"
      ],
      "text/plain": [
       "                                               posts  type\n",
       "0  know intj tool use interaction people excuse a...  INTJ\n",
       "1  rap music ehh opp yeah know valid well know fa...  INTJ\n",
       "2  preferably p hd low except wew lad video p min...  INTJ\n",
       "3  drink like wish could drink red wine give head...  INTJ\n",
       "4  space program ah bad deal meing freelance max ...  INTJ\n",
       "5  loose stop overthinking everything ruin friend...  INTJ\n",
       "6  often men one put chance get burn otherwise no...  INTJ\n",
       "7  early definitely relate quiet self destruction...  INTJ\n",
       "8  one full list would impossibly long quotable f...  INTJ\n",
       "9  technique information power share unless absol...  INTJ"
      ]
     },
     "execution_count": 2,
     "metadata": {},
     "output_type": "execute_result"
    }
   ],
   "source": [
    "# Loading data as a pandas dataframe\n",
    "data = pd.read_csv(\"original.csv\") \n",
    "# Shows the first 10 instances of the dataset\n",
    "data[0:10]\n"
   ]
  },
  {
   "cell_type": "code",
   "execution_count": 3,
   "metadata": {},
   "outputs": [
    {
     "data": {
      "text/html": [
       "<div>\n",
       "<style scoped>\n",
       "    .dataframe tbody tr th:only-of-type {\n",
       "        vertical-align: middle;\n",
       "    }\n",
       "\n",
       "    .dataframe tbody tr th {\n",
       "        vertical-align: top;\n",
       "    }\n",
       "\n",
       "    .dataframe thead th {\n",
       "        text-align: right;\n",
       "    }\n",
       "</style>\n",
       "<table border=\"1\" class=\"dataframe\">\n",
       "  <thead>\n",
       "    <tr style=\"text-align: right;\">\n",
       "      <th></th>\n",
       "      <th>posts</th>\n",
       "      <th>type</th>\n",
       "    </tr>\n",
       "  </thead>\n",
       "  <tbody>\n",
       "    <tr>\n",
       "      <th>0</th>\n",
       "      <td>know intj tool use interaction people excuse a...</td>\n",
       "      <td>I</td>\n",
       "    </tr>\n",
       "    <tr>\n",
       "      <th>1</th>\n",
       "      <td>rap music ehh opp yeah know valid well know fa...</td>\n",
       "      <td>I</td>\n",
       "    </tr>\n",
       "    <tr>\n",
       "      <th>2</th>\n",
       "      <td>preferably p hd low except wew lad video p min...</td>\n",
       "      <td>I</td>\n",
       "    </tr>\n",
       "    <tr>\n",
       "      <th>3</th>\n",
       "      <td>drink like wish could drink red wine give head...</td>\n",
       "      <td>I</td>\n",
       "    </tr>\n",
       "    <tr>\n",
       "      <th>4</th>\n",
       "      <td>space program ah bad deal meing freelance max ...</td>\n",
       "      <td>I</td>\n",
       "    </tr>\n",
       "    <tr>\n",
       "      <th>5</th>\n",
       "      <td>loose stop overthinking everything ruin friend...</td>\n",
       "      <td>I</td>\n",
       "    </tr>\n",
       "    <tr>\n",
       "      <th>6</th>\n",
       "      <td>often men one put chance get burn otherwise no...</td>\n",
       "      <td>I</td>\n",
       "    </tr>\n",
       "    <tr>\n",
       "      <th>7</th>\n",
       "      <td>early definitely relate quiet self destruction...</td>\n",
       "      <td>I</td>\n",
       "    </tr>\n",
       "    <tr>\n",
       "      <th>8</th>\n",
       "      <td>one full list would impossibly long quotable f...</td>\n",
       "      <td>I</td>\n",
       "    </tr>\n",
       "    <tr>\n",
       "      <th>9</th>\n",
       "      <td>technique information power share unless absol...</td>\n",
       "      <td>I</td>\n",
       "    </tr>\n",
       "  </tbody>\n",
       "</table>\n",
       "</div>"
      ],
      "text/plain": [
       "                                               posts type\n",
       "0  know intj tool use interaction people excuse a...    I\n",
       "1  rap music ehh opp yeah know valid well know fa...    I\n",
       "2  preferably p hd low except wew lad video p min...    I\n",
       "3  drink like wish could drink red wine give head...    I\n",
       "4  space program ah bad deal meing freelance max ...    I\n",
       "5  loose stop overthinking everything ruin friend...    I\n",
       "6  often men one put chance get burn otherwise no...    I\n",
       "7  early definitely relate quiet self destruction...    I\n",
       "8  one full list would impossibly long quotable f...    I\n",
       "9  technique information power share unless absol...    I"
      ]
     },
     "execution_count": 3,
     "metadata": {},
     "output_type": "execute_result"
    }
   ],
   "source": [
    "#only keep first cariable of the target (type)\n",
    "for index, row in data.iterrows():\n",
    "    row['type'] = row['type'][0]\n",
    "\n",
    "# Shows the first 10 instances of the dataset\n",
    "data[0:10]"
   ]
  },
  {
   "cell_type": "code",
   "execution_count": 5,
   "metadata": {},
   "outputs": [
    {
     "data": {
      "text/plain": [
       "I    80677\n",
       "E    25390\n",
       "Name: type, dtype: int64"
      ]
     },
     "execution_count": 5,
     "metadata": {},
     "output_type": "execute_result"
    },
    {
     "data": {
      "image/png": "[encoded data removed]",
      "text/plain": [
       "<Figure size 432x288 with 1 Axes>"
      ]
     },
     "metadata": {
      "needs_background": "light"
     },
     "output_type": "display_data"
    }
   ],
   "source": [
    "# Counting the class frequencies to search for the class proportions in case of class imbalance\n",
    "data['type'].value_counts().plot.bar(x='type', y='Frequency')\n",
    "\n",
    "# A bar plot of the class distribution\n",
    "data['type'].value_counts()\n",
    "# Observation: A right skewed distribution, which is not quite similar to the actual distribution of the population\n"
   ]
  },
  {
   "cell_type": "code",
   "execution_count": 6,
   "metadata": {},
   "outputs": [],
   "source": [
    "# Preprocessing (removing stopwords)\n",
    "import nltk\n",
    "from nltk.corpus import stopwords\n",
    "from nltk.tokenize import word_tokenize\n",
    "stopwords = set(stopwords.words(\"english\"))\n",
    "\n",
    "# Length per sentence before removal\n",
    "INDEX = 0\n",
    "\n",
    "\n",
    "for sentence in data[\"posts\"]:\n",
    "    tokenized_sentence = word_tokenize(sentence)\n",
    "    data[\"posts\"].loc[INDEX] = tokenized_sentence\n",
    "    INDEX +=1\n",
    "    \n",
    "for sentence in data[\"posts\"]:          \n",
    "    for word in stopwords:\n",
    "        if word in sentence:\n",
    "            sentence.remove(word)"
   ]
  },
  {
   "cell_type": "code",
   "execution_count": 7,
   "metadata": {},
   "outputs": [
    {
     "name": "stdout",
     "output_type": "stream",
     "text": [
      "478\n"
     ]
    }
   ],
   "source": [
    "# Length per sentence after removal\n",
    "minimum = 1000\n",
    "for i in data[\"posts\"]:\n",
    "    if len(i) < minimum:\n",
    "        minimum = len(i)\n",
    "    \n",
    "print(minimum)\n",
    "# Minimum is 478\n"
   ]
  },
  {
   "cell_type": "code",
   "execution_count": 8,
   "metadata": {},
   "outputs": [
    {
     "name": "stdout",
     "output_type": "stream",
     "text": [
      "479\n",
      "479\n",
      "479\n",
      "479\n",
      "479\n",
      "479\n",
      "479\n",
      "479\n",
      "479\n",
      "479\n",
      "479\n",
      "479\n",
      "479\n",
      "479\n",
      "479\n",
      "479\n",
      "479\n",
      "479\n",
      "479\n",
      "479\n",
      "479\n",
      "479\n",
      "479\n",
      "479\n",
      "479\n",
      "479\n",
      "479\n",
      "479\n",
      "479\n",
      "479\n",
      "479\n",
      "479\n",
      "479\n",
      "479\n",
      "479\n",
      "479\n",
      "479\n",
      "479\n",
      "479\n",
      "479\n",
      "479\n",
      "479\n",
      "479\n",
      "479\n",
      "479\n",
      "479\n",
      "479\n",
      "479\n",
      "479\n",
      "479\n",
      "479\n",
      "479\n",
      "479\n",
      "479\n",
      "479\n",
      "479\n",
      "479\n",
      "479\n",
      "479\n",
      "479\n",
      "479\n",
      "479\n",
      "479\n",
      "479\n",
      "479\n",
      "479\n",
      "479\n",
      "479\n",
      "479\n",
      "479\n",
      "479\n",
      "479\n",
      "479\n",
      "479\n",
      "479\n",
      "479\n",
      "479\n",
      "479\n",
      "479\n",
      "479\n",
      "479\n",
      "479\n",
      "479\n",
      "479\n",
      "479\n",
      "479\n",
      "479\n",
      "479\n",
      "479\n",
      "479\n",
      "479\n",
      "479\n",
      "479\n",
      "479\n",
      "479\n",
      "479\n",
      "479\n",
      "479\n",
      "479\n",
      "479\n"
     ]
    }
   ],
   "source": [
    "NUMBER = 0\n",
    "# Fix list length to the minimum\n",
    "for sentence in data[\"posts\"]:\n",
    "    data[\"posts\"].loc[NUMBER] = sentence[0:minimum+1]\n",
    "    NUMBER += 1\n",
    "\n",
    "for item in data[\"posts\"][0:100]:\n",
    "    print(len(item))\n",
    "\n",
    "    "
   ]
  },
  {
   "cell_type": "code",
   "execution_count": 9,
   "metadata": {},
   "outputs": [],
   "source": [
    "#Undersampling of the majority class\n",
    "introvert_data = data[data[\"type\"] == 'I']\n",
    "extrovert_data = data[data[\"type\"] == 'E']\n",
    "\n",
    "sample_size = min(len(introvert_data), len(extrovert_data))\n",
    "\n",
    "sampled_introvert_data = introvert_data.sample(n = sample_size)\n",
    "sampled_extrovert_data = extrovert_data.sample(n = sample_size)\n",
    "\n",
    "balanced_data = pd.concat([sampled_introvert_data, sampled_extrovert_data])"
   ]
  },
  {
   "cell_type": "code",
   "execution_count": 10,
   "metadata": {},
   "outputs": [
    {
     "name": "stdout",
     "output_type": "stream",
     "text": [
      "I    25390\n",
      "E    25390\n",
      "Name: type, dtype: int64\n"
     ]
    },
    {
     "data": {
      "text/plain": [
       "<matplotlib.axes._subplots.AxesSubplot at 0x221e7f31be0>"
      ]
     },
     "execution_count": 10,
     "metadata": {},
     "output_type": "execute_result"
    },
    {
     "data": {
      "image/png": "[encoded data removed]",
      "text/plain": [
       "<Figure size 432x288 with 1 Axes>"
      ]
     },
     "metadata": {
      "needs_background": "light"
     },
     "output_type": "display_data"
    }
   ],
   "source": [
    "print(balanced_data['type'].value_counts())\n",
    "balanced_data['type'].value_counts().plot.bar(x='type', y='Frequency')"
   ]
  },
  {
   "cell_type": "code",
   "execution_count": 12,
   "metadata": {},
   "outputs": [],
   "source": [
    "# Splitting the data 90/10 into training and testing\n",
    "posts_train, posts_test, type_train, type_test = train_test_split(balanced_data[\"posts\"], balanced_data[\"type\"],test_size= 0.1)\n",
    "\n",
    "# Splitting the data 85/15 into training and validating\n",
    "posts_train, posts_val, type_train, type_val = train_test_split(posts_train, type_train, test_size=0.15, random_state=1)"
   ]
  },
  {
   "cell_type": "code",
   "execution_count": 18,
   "metadata": {},
   "outputs": [
    {
     "name": "stdout",
     "output_type": "stream",
     "text": [
      "38846\n",
      "6856\n",
      "5078\n"
     ]
    },
    {
     "data": {
      "text/plain": [
       "<BarContainer object of 3 artists>"
      ]
     },
     "execution_count": 18,
     "metadata": {},
     "output_type": "execute_result"
    },
    {
     "data": {
      "image/png": "[encoded data removed]",
      "text/plain": [
       "<Figure size 432x288 with 1 Axes>"
      ]
     },
     "metadata": {
      "needs_background": "light"
     },
     "output_type": "display_data"
    }
   ],
   "source": [
    "# visualized the size of the three sets\n",
    "lengths = [len(posts_train), len(posts_val), len(posts_test)] \n",
    "print(lengths[0])\n",
    "print(lengths[1])\n",
    "print(lengths[2])\n",
    "\n",
    "plt.bar(['Training','Validation', 'Test'], lengths)"
   ]
  },
  {
   "cell_type": "code",
   "execution_count": 19,
   "metadata": {},
   "outputs": [],
   "source": [
    "# Converting the dataframes to json \n",
    "pd.concat([posts_train, type_train], axis=1).to_json(\"processed_training.json\")\n",
    "pd.concat([posts_val, type_val], axis=1).to_json(\"processed_validation.json\")\n",
    "pd.concat([posts_test, type_test], axis=1).to_json(\"processed_test.json\")"
   ]
  },
  {
   "cell_type": "code",
   "execution_count": null,
   "metadata": {},
   "outputs": [],
   "source": []
  }
 ],
 "metadata": {
  "kernelspec": {
   "display_name": "Python 3",
   "language": "python",
   "name": "python3"
  },
  "language_info": {
   "codemirror_mode": {
    "name": "ipython",
    "version": 3
   },
   "file_extension": ".py",
   "mimetype": "text/x-python",
   "name": "python",
   "nbconvert_exporter": "python",
   "pygments_lexer": "ipython3",
   "version": "3.7.3"
  }
 },
 "nbformat": 4,
 "nbformat_minor": 5
}
